{
 "cells": [
  {
   "cell_type": "markdown",
   "metadata": {},
   "source": [
    "# Example of a Convolutional Neural Network (Multilabel) for Text Classification"
   ]
  },
  {
   "cell_type": "code",
   "execution_count": 1,
   "metadata": {},
   "outputs": [
    {
     "name": "stdout",
     "output_type": "stream",
     "text": [
      "Processing ./.cache/pip/wheels/45/6c/46/a1865e7ba706b3817f5d1b2ff7ce8996aabdd0d03d47ba0266/nltk-3.5-py3-none-any.whl\n",
      "Requirement already satisfied: click in /opt/conda/lib/python3.7/site-packages (from nltk) (7.0)\n",
      "Requirement already satisfied: tqdm in /opt/conda/lib/python3.7/site-packages (from nltk) (4.41.1)\n",
      "Collecting regex\n",
      "  Using cached regex-2020.5.14-cp37-cp37m-manylinux2010_x86_64.whl (675 kB)\n",
      "Requirement already satisfied: joblib in /opt/conda/lib/python3.7/site-packages (from nltk) (0.14.1)\n",
      "Installing collected packages: regex, nltk\n",
      "Successfully installed nltk-3.5 regex-2020.5.14\n"
     ]
    }
   ],
   "source": [
    "!pip install nltk"
   ]
  },
  {
   "cell_type": "code",
   "execution_count": 2,
   "metadata": {},
   "outputs": [
    {
     "name": "stdout",
     "output_type": "stream",
     "text": [
      "Collecting package metadata (current_repodata.json): done\n",
      "Solving environment: done\n",
      "\n",
      "\n",
      "==> WARNING: A newer version of conda exists. <==\n",
      "  current version: 4.7.12\n",
      "  latest version: 4.8.3\n",
      "\n",
      "Please update conda by running\n",
      "\n",
      "    $ conda update -n base conda\n",
      "\n",
      "\n",
      "\n",
      "## Package Plan ##\n",
      "\n",
      "  environment location: /opt/conda\n",
      "\n",
      "  added / updated specs:\n",
      "    - cudatoolkit=10.0\n",
      "    - pytorch\n",
      "    - torchvision\n",
      "\n",
      "\n",
      "The following packages will be downloaded:\n",
      "\n",
      "    package                    |            build\n",
      "    ---------------------------|-----------------\n",
      "    ca-certificates-2020.4.5.1 |       hecc5488_0         146 KB  conda-forge\n",
      "    certifi-2020.4.5.1         |   py37hc8dfbb8_0         151 KB  conda-forge\n",
      "    cudatoolkit-10.0.130       |                0       261.2 MB  defaults\n",
      "    intel-openmp-2020.1        |              217         780 KB  defaults\n",
      "    mkl-2020.1                 |              217       129.0 MB  defaults\n",
      "    ninja-1.10.0               |       hc9558a2_0         1.9 MB  conda-forge\n",
      "    openssl-1.1.1g             |       h516909a_0         2.1 MB  conda-forge\n",
      "    python_abi-3.7             |          1_cp37m           4 KB  conda-forge\n",
      "    pytorch-1.4.0              |py3.7_cuda10.0.130_cudnn7.6.3_0       422.7 MB  pytorch\n",
      "    torchvision-0.5.0          |       py37_cu100         9.1 MB  pytorch\n",
      "    ------------------------------------------------------------\n",
      "                                           Total:       827.1 MB\n",
      "\n",
      "The following NEW packages will be INSTALLED:\n",
      "\n",
      "  cudatoolkit        pkgs/main/linux-64::cudatoolkit-10.0.130-0\n",
      "  intel-openmp       pkgs/main/linux-64::intel-openmp-2020.1-217\n",
      "  mkl                pkgs/main/linux-64::mkl-2020.1-217\n",
      "  ninja              conda-forge/linux-64::ninja-1.10.0-hc9558a2_0\n",
      "  python_abi         conda-forge/linux-64::python_abi-3.7-1_cp37m\n",
      "  pytorch            pytorch/linux-64::pytorch-1.4.0-py3.7_cuda10.0.130_cudnn7.6.3_0\n",
      "  torchvision        pytorch/linux-64::torchvision-0.5.0-py37_cu100\n",
      "\n",
      "The following packages will be UPDATED:\n",
      "\n",
      "  ca-certificates                     2019.11.28-hecc5488_0 --> 2020.4.5.1-hecc5488_0\n",
      "  certifi                                 2019.11.28-py37_0 --> 2020.4.5.1-py37hc8dfbb8_0\n",
      "  openssl                                 1.1.1d-h516909a_0 --> 1.1.1g-h516909a_0\n",
      "\n",
      "\n",
      "\n",
      "Downloading and Extracting Packages\n",
      "intel-openmp-2020.1  | 780 KB    | ##################################### | 100% \n",
      "openssl-1.1.1g       | 2.1 MB    | ##################################### | 100% \n",
      "mkl-2020.1           | 129.0 MB  | ##################################### | 100% \n",
      "python_abi-3.7       | 4 KB      | ##################################### | 100% \n",
      "ninja-1.10.0         | 1.9 MB    | ##################################### | 100% \n",
      "pytorch-1.4.0        | 422.7 MB  | ##################################### | 100% \n",
      "cudatoolkit-10.0.130 | 261.2 MB  | ##################################### | 100% \n",
      "certifi-2020.4.5.1   | 151 KB    | ##################################### | 100% \n",
      "torchvision-0.5.0    | 9.1 MB    | ##################################### | 100% \n",
      "ca-certificates-2020 | 146 KB    | ##################################### | 100% \n",
      "Preparing transaction: done\n",
      "Verifying transaction: done\n",
      "Executing transaction: done\n"
     ]
    }
   ],
   "source": [
    "!conda install pytorch torchvision cudatoolkit=10.0 -c pytorch --yes"
   ]
  },
  {
   "cell_type": "code",
   "execution_count": 1,
   "metadata": {},
   "outputs": [],
   "source": [
    "#Imports needed from pytorch\n",
    "import torch\n",
    "from torch.utils.data import Dataset\n",
    "from collections import OrderedDict\n",
    "\n",
    "\n",
    "#Some built-in imports\n",
    "import matplotlib.pyplot as plt\n",
    "import numpy as np\n",
    "import pickle\n",
    "from os.path import join, isfile\n",
    "from os import listdir\n",
    "\n",
    "#Imports from the repository\n",
    "from data_processing import get_weight_matrix, get_tokens\n",
    "import data_processing as dp\n",
    "from privacy_policies_dataset import PrivacyPoliciesDataset as PPD\n",
    "from cnn import CNN"
   ]
  },
  {
   "cell_type": "code",
   "execution_count": 2,
   "metadata": {},
   "outputs": [],
   "source": [
    "current_attribute = \"Action Third-Party\"\n",
    "current_num_levels = 5"
   ]
  },
  {
   "cell_type": "markdown",
   "metadata": {},
   "source": [
    "If this is not the first time you run the code and you are using the same embeddings and the same dataset then you can skip several cells and just run cell 5 to load the weights matrix, cell 7 to load labels and cell 10 to load datasets. Once you have run these cells you can jump straight into section 3 and run the CNN."
   ]
  },
  {
   "cell_type": "code",
   "execution_count": 3,
   "metadata": {},
   "outputs": [],
   "source": [
    "def confusion_matrices(model, dataset, threshold):\n",
    "    \n",
    "    metrics = {}\n",
    "    x = PPD.collate_data(dataset)[0]\n",
    "    y_hat  = model(x)\n",
    "    \"\"\"ge = greater equal than threshold\"\"\"\n",
    "    y_hat = torch.ge(y_hat, threshold).double() #predicted\n",
    "    y = dataset.labels_tensor.double()  #actual\n",
    "    tp = (y * y_hat).sum(0).numpy()\n",
    "    tn = ((1 - y) * (1 - y_hat)).sum(0).numpy()\n",
    "    fp = (y_hat * (1 - y)).sum(0).numpy()\n",
    "    fn = ((1 - y_hat) * y).sum(0).numpy()\n",
    "    metrics['TP'] = tp\n",
    "    metrics['TN'] = tn\n",
    "    metrics['FP'] = fp\n",
    "    metrics['FN'] = fn\n",
    "    \n",
    "    return metrics\n",
    "\n",
    "def confusion_matrices_change(metrics_05, metrics_best_t):\n",
    "    \n",
    "    labels = range(current_num_levels)\n",
    "    fig = plt.figure(figsize=(15,10))\n",
    "    fig.suptitle(\"metrics differences\")\n",
    "    tp_ax = fig.add_subplot(221)\n",
    "    tn_ax = fig.add_subplot(222)\n",
    "    fp_ax = fig.add_subplot(223)\n",
    "    fn_ax = fig.add_subplot(224)\n",
    "    \n",
    "    tp_ax.plot(labels, metrics_05['TP'], label = 't = 0.5')\n",
    "    tn_ax.plot(labels, metrics_05['TN'], label = 't = 0.5')\n",
    "    fp_ax.plot(labels, metrics_05['FP'], label = 't = 0.5')\n",
    "    fn_ax.plot(labels, metrics_05['FN'], label = 't = 0.5')\n",
    "    \n",
    "    tp_ax.set_ylabel('TP')\n",
    "    tn_ax.set_ylabel('TN')\n",
    "    fp_ax.set_ylabel('FP')\n",
    "    fn_ax.set_ylabel('FN')\n",
    "    \n",
    "    tp_ax.plot(labels, metrics_best_t['TP'], label = 'best t')\n",
    "    tn_ax.plot(labels, metrics_best_t['TN'], label = 'best t')\n",
    "    fp_ax.plot(labels, metrics_best_t['FP'], label = 'best t')\n",
    "    fn_ax.plot(labels, metrics_best_t['FN'], label = 'best t')\n",
    "    \n",
    "    tp_ax.legend()\n",
    "    tn_ax.legend()\n",
    "    fp_ax.legend()\n",
    "    fn_ax.legend()\n",
    "    \n",
    "    plt.show()"
   ]
  },
  {
   "cell_type": "markdown",
   "metadata": {},
   "source": [
    "## 1. Generating word embeddings matrix"
   ]
  },
  {
   "cell_type": "markdown",
   "metadata": {},
   "source": [
    "We read from raw_data all the files and get all the different words we can find within all the files. If we already have a file named dictionary.pkl and read set to True, it will read the dictionary from this file. "
   ]
  },
  {
   "cell_type": "code",
   "execution_count": 4,
   "metadata": {},
   "outputs": [
    {
     "name": "stdout",
     "output_type": "stream",
     "text": [
      "Processing dataset ...\n"
     ]
    }
   ],
   "source": [
    "dictionary = get_tokens(f\"{current_attribute}\", f\"embeddings_data/attr\", read = False)"
   ]
  },
  {
   "cell_type": "markdown",
   "metadata": {},
   "source": [
    "The next step is to load the pretrained embeddings. We will get two python dictionaries. Both have the words as the keys of the python dictionaries and one has the vectors as the keys whilst the other one has the position on the dictionary."
   ]
  },
  {
   "cell_type": "code",
   "execution_count": 5,
   "metadata": {},
   "outputs": [
    {
     "name": "stdout",
     "output_type": "stream",
     "text": [
      "Processing dataset ...\n"
     ]
    }
   ],
   "source": [
    "fast_text_model = 'fastText-0.1.0/corpus_vectors_default_300d/WOW_MEGA_PP.vec'\n",
    "\n",
    "word2vector_fast_text = dp.get_fast_text_dicts(fast_text_model, \"embeddings_data\", 100, missing = False, read = False)"
   ]
  },
  {
   "cell_type": "code",
   "execution_count": 6,
   "metadata": {
    "scrolled": true
   },
   "outputs": [],
   "source": [
    "# word2vector_glove = dp.get_glove_dicts( \"data\",  \"glove.6B\", \"embeddings_data/attr\", 300, read = True)\n",
    "\n",
    "# print(\"Number of words in the pretrained embeddings: {}\".format(len(word2vector_glove)))"
   ]
  },
  {
   "cell_type": "markdown",
   "metadata": {},
   "source": [
    "Now we compute the matrix containing all the word embeddings that we will need for the embedding layer of the CNN and \n",
    "we obtain a word2idx of just all the words inside dictionary and not all the words present in the word embeddings. Usually the pretrained embeddings that we will use have more words than what we need, that is the reason why we need to obtain a new word2idx of just all the words that we found in the files inside train and test folders."
   ]
  },
  {
   "cell_type": "markdown",
   "metadata": {},
   "source": [
    "`get_weigth_matrix()` variables:\n",
    "1. dimensions\n",
    "2. folder\n",
    "3. read\n",
    "4. oov_random\n",
    "5. kwargs: dictionary, word2vector"
   ]
  },
  {
   "cell_type": "code",
   "execution_count": 7,
   "metadata": {},
   "outputs": [
    {
     "name": "stdout",
     "output_type": "stream",
     "text": [
      "Processing dataset ...\n",
      "dims 100\n",
      "Some words were missing in the word2vector. 114 words were not found.\n"
     ]
    }
   ],
   "source": [
    "#weights_matrix = get_weight_matrix(300, \"embeddings_data\", read = True)\n",
    "#weights_matrix = get_weight_matrix(300, \"embeddings_data\", oov_random = False, dictionary = dictionary, word2vector = word2vector_glove)\n",
    "weights_matrix = get_weight_matrix(100, \"embeddings_data/attr\", read = False, oov_random = False, dictionary = dictionary, word2vector = word2vector_fast_text)"
   ]
  },
  {
   "cell_type": "code",
   "execution_count": 8,
   "metadata": {},
   "outputs": [
    {
     "data": {
      "text/plain": [
       "array([[ 0.      ,  0.      ,  0.      , ...,  0.      ,  0.      ,\n",
       "         0.      ],\n",
       "       [ 0.      ,  0.      ,  0.      , ...,  0.      ,  0.      ,\n",
       "         0.      ],\n",
       "       [ 0.      ,  0.      ,  0.      , ...,  0.      ,  0.      ,\n",
       "         0.      ],\n",
       "       ...,\n",
       "       [-0.17572 , -0.13731 , -0.18353 , ...,  0.050218,  0.20277 ,\n",
       "         0.072381],\n",
       "       [ 0.090629, -0.17127 ,  0.087155, ..., -0.19708 ,  0.069763,\n",
       "         0.22564 ],\n",
       "       [ 0.      ,  0.      ,  0.      , ...,  0.      ,  0.      ,\n",
       "         0.      ]])"
      ]
     },
     "execution_count": 8,
     "metadata": {},
     "output_type": "execute_result"
    }
   ],
   "source": [
    "weights_matrix"
   ]
  },
  {
   "cell_type": "markdown",
   "metadata": {},
   "source": [
    "### 2. Creation of Datasets"
   ]
  },
  {
   "cell_type": "markdown",
   "metadata": {},
   "source": [
    "The first step before obtaining the prefectly cleaned data that will be used in the CNN is to aggregate the labels. The raw_data folder provides a series of files in csv format with repeated sentences. The reason behind this is that some sentences have several labels assigned to them. The last step is to aggregate segments and obtain a list of labels per sentence. The following function gets all the data from raw_data folder and outputs the result in agg_data."
   ]
  },
  {
   "cell_type": "code",
   "execution_count": 9,
   "metadata": {},
   "outputs": [
    {
     "name": "stdout",
     "output_type": "stream",
     "text": [
      "Processing dataset in one file ...\n",
      "                          label  \\\n",
      "0     [0.0, 0.0, 0.0, 0.0, 1.0]   \n",
      "1     [0.0, 0.0, 0.0, 0.0, 1.0]   \n",
      "2     [0.0, 1.0, 0.0, 0.0, 0.0]   \n",
      "3     [0.0, 1.0, 0.0, 0.0, 0.0]   \n",
      "4     [0.0, 1.0, 0.0, 0.0, 0.0]   \n",
      "...                         ...   \n",
      "2455  [0.0, 1.0, 0.0, 0.0, 0.0]   \n",
      "2456  [0.0, 1.0, 0.0, 0.0, 0.0]   \n",
      "2457  [0.0, 1.0, 0.0, 0.0, 0.0]   \n",
      "2458  [0.0, 1.0, 0.0, 0.0, 0.0]   \n",
      "2459  [0.0, 1.0, 0.0, 0.0, 0.0]   \n",
      "\n",
      "                                                segment  \n",
      "0                        Disclosure of your information  \n",
      "1        Links to third party web sites and advertisers  \n",
      "2     transmitted to other users of the Websites usi...  \n",
      "3                            are posted and transmitted  \n",
      "4                                              to share  \n",
      "...                                                 ...  \n",
      "2455  We employ other companies and individuals as a...  \n",
      "2456  Whenever we share personal information with ou...  \n",
      "2457  if you choose to participate in any loyalty pr...  \n",
      "2458                                         will share  \n",
      "2459  Of course, we transmit the entire credit card ...  \n",
      "\n",
      "[2460 rows x 2 columns]\n"
     ]
    }
   ],
   "source": [
    "# labels = OrderedDict([('Children', 0),\n",
    "#              ('Californians', 1),\n",
    "#              ('Citizens from other countries', 2),\n",
    "#              ('Europeans', 3)])\n",
    "labels = dp.attr_value_labels(current_attribute)\n",
    "# dp.aggregate_data_attribute_level(current_attribute, current_num_levels, read=False)\n",
    "dp.aggregate_data(f\"{current_attribute}\", current_attribute, current_num_levels, read = False)"
   ]
  },
  {
   "cell_type": "code",
   "execution_count": 10,
   "metadata": {},
   "outputs": [
    {
     "name": "stdout",
     "output_type": "stream",
     "text": [
      "0. Collect on first party website/app\n",
      "1. Receive/Shared with\n",
      "2. See\n",
      "3. Track on first party website/app\n",
      "4. Unspecified\n"
     ]
    }
   ],
   "source": [
    "labels_file = open(f\"labels_{current_attribute}.pkl\",\"rb\")\n",
    "\n",
    "labels = pickle.load(labels_file)\n",
    "\n",
    "labels_file.close()\n",
    "\n",
    "for label, index in labels.items():\n",
    "    \n",
    "    print(str(index) + '. ' + label)"
   ]
  },
  {
   "cell_type": "markdown",
   "metadata": {},
   "source": [
    "Now that we have the aggregated data in agg_data we will process all the sentences and transform them into a list of integers. The integers will refer to the position inside the word2idx dictionary. The labels will also be transformed into an n-dimensinal vector with 1s if a sentence has that label and 0s if it doesn't. All the data will be placed in the corresponding folder inside processed_data. We load the labels with which we want to perform the classification. We will also show them so that it is clearer to the user."
   ]
  },
  {
   "cell_type": "code",
   "execution_count": 11,
   "metadata": {},
   "outputs": [
    {
     "name": "stdout",
     "output_type": "stream",
     "text": [
      "Processing dataset ...\n",
      "Num of unique segments segments: 2460\n"
     ]
    }
   ],
   "source": [
    "# sentence_matrices_all, labels_matrices_all = dp.process_attribute_level_dataset(dictionary, current_attribute, read = False)\n",
    "sentence_matrices_all, labels_matrices_all = dp.process_dataset(labels, dictionary, current_attribute, read = False)"
   ]
  },
  {
   "cell_type": "markdown",
   "metadata": {},
   "source": [
    "We now create an PPD which stands for PrivacyPoliciesDataset containing the training and testing dataset. We will need to split the data in two to get the test training data and the data that will be used for training and validation. The function split_dataset_randomly is spliting the dataset 90/10 by default."
   ]
  },
  {
   "cell_type": "code",
   "execution_count": 12,
   "metadata": {},
   "outputs": [
    {
     "name": "stderr",
     "output_type": "stream",
     "text": [
      "/home/jovyan/privacy_policies_dataset.py:13: UserWarning: To copy construct from a tensor, it is recommended to use sourceTensor.clone().detach() or sourceTensor.clone().detach().requires_grad_(True), rather than torch.tensor(sourceTensor).\n",
      "  self.labels_tensor = tensor(labels_list)\n"
     ]
    }
   ],
   "source": [
    "dataset = PPD(sentence_matrices_all, labels_matrices_all, labels)\n",
    "\n",
    "test_dataset, train_validation_dataset = dataset.split_dataset_randomly(0.2)\n",
    "\n",
    "validation_dataset, train_dataset = train_validation_dataset.split_dataset_randomly(0.2)\n",
    "\n",
    "test_dataset.pickle_dataset(f\"datasets/test_dataset_{current_attribute}_attr.pkl\")\n",
    "\n",
    "train_dataset.pickle_dataset(f\"datasets/train_dataset_{current_attribute}_attr.pkl\")\n",
    "\n",
    "validation_dataset.pickle_dataset(f\"datasets/validation_dataset_{current_attribute}_attr.pkl\")"
   ]
  },
  {
   "cell_type": "markdown",
   "metadata": {},
   "source": [
    "In case we aready had all the data split and prepared we can load it like this: "
   ]
  },
  {
   "cell_type": "code",
   "execution_count": 13,
   "metadata": {},
   "outputs": [],
   "source": [
    "test_dataset = PPD.unpickle_dataset(f\"datasets/test_dataset_{current_attribute}_attr.pkl\")\n",
    "\n",
    "train_dataset = PPD.unpickle_dataset(f\"datasets/train_dataset_{current_attribute}_attr.pkl\")\n",
    "\n",
    "validation_dataset = PPD.unpickle_dataset(f\"datasets/validation_dataset_{current_attribute}_attr.pkl\")"
   ]
  },
  {
   "cell_type": "code",
   "execution_count": 14,
   "metadata": {},
   "outputs": [
    {
     "name": "stdout",
     "output_type": "stream",
     "text": [
      "Num of segments: 1575\n",
      "Num of labels: 2103\n",
      "Percentages with respect to number of labels ... \n",
      "0. Collect on first party website/app : 323 (15.359010936757015%)\n",
      "1. Receive/Shared with : 1188 (56.490727532097004%)\n",
      "2. See : 133 (6.3242986210175935%)\n",
      "3. Track on first party website/app : 283 (13.45696623870661%)\n",
      "4. Unspecified : 176 (8.368996671421778%)\n",
      "---------------------------------------------------------------------------------------------------------\n",
      "Num of segments: 393\n",
      "Num of labels: 523\n",
      "Percentages with respect to number of labels ... \n",
      "0. Collect on first party website/app : 74 (14.149139579349905%)\n",
      "1. Receive/Shared with : 292 (55.831739961759084%)\n",
      "2. See : 47 (8.98661567877629%)\n",
      "3. Track on first party website/app : 67 (12.810707456978967%)\n",
      "4. Unspecified : 43 (8.221797323135755%)\n",
      "---------------------------------------------------------------------------------------------------------\n",
      "Num of segments: 492\n",
      "Num of labels: 663\n",
      "Percentages with respect to number of labels ... \n",
      "0. Collect on first party website/app : 107 (16.138763197586727%)\n",
      "1. Receive/Shared with : 366 (55.203619909502265%)\n",
      "2. See : 50 (7.541478129713424%)\n",
      "3. Track on first party website/app : 90 (13.574660633484163%)\n",
      "4. Unspecified : 50 (7.541478129713424%)\n",
      "---------------------------------------------------------------------------------------------------------\n"
     ]
    }
   ],
   "source": [
    "train_dataset.labels_stats()\n",
    "print(\"-\" * 35 * 3)\n",
    "validation_dataset.labels_stats()\n",
    "print(\"-\" * 35 * 3)\n",
    "test_dataset.labels_stats()\n",
    "print(\"-\" * 35 * 3)"
   ]
  },
  {
   "cell_type": "markdown",
   "metadata": {},
   "source": [
    "## 3. Creation of CNN and training"
   ]
  },
  {
   "cell_type": "markdown",
   "metadata": {},
   "source": [
    "Now we set the 7 main parameters of the CNN we are using:\n",
    "1. Number of words in the dictionary\n",
    "2. Embeddings dimension\n",
    "3. Number of filters per kernel size\n",
    "4. Number of hidden units\n",
    "5. Number of labels to classify\n",
    "6. List of all the kernels sizes we want to use\n",
    "7. Name of the model"
   ]
  },
  {
   "cell_type": "code",
   "execution_count": 15,
   "metadata": {},
   "outputs": [
    {
     "data": {
      "text/plain": [
       "torch.Size([1575, 5])"
      ]
     },
     "execution_count": 15,
     "metadata": {},
     "output_type": "execute_result"
    }
   ],
   "source": [
    "train_dataset.labels_tensor.shape"
   ]
  },
  {
   "cell_type": "code",
   "execution_count": 16,
   "metadata": {},
   "outputs": [
    {
     "data": {
      "text/plain": [
       "torch.Size([393, 5])"
      ]
     },
     "execution_count": 16,
     "metadata": {},
     "output_type": "execute_result"
    }
   ],
   "source": [
    "validation_dataset.labels_tensor.shape"
   ]
  },
  {
   "cell_type": "code",
   "execution_count": 17,
   "metadata": {},
   "outputs": [
    {
     "data": {
      "text/plain": [
       "(1634, 100)"
      ]
     },
     "execution_count": 17,
     "metadata": {},
     "output_type": "execute_result"
    }
   ],
   "source": [
    "weights_matrix.shape"
   ]
  },
  {
   "cell_type": "code",
   "execution_count": 18,
   "metadata": {},
   "outputs": [],
   "source": [
    "model = CNN(weights_matrix.shape[0], weights_matrix.shape[1], 200, [100], current_num_levels, [3], name = f'{current_attribute}_zeros_60-20-20_polisis_attr')\n",
    "\n",
    "model.load_pretrained_embeddings(weights_matrix)"
   ]
  },
  {
   "cell_type": "markdown",
   "metadata": {},
   "source": [
    "\n",
    "We will also add the pretrained embeddings to the embedding layer of the CNN through load_pretrained_embeddings. The function called train_cn will need two more parameters:\n",
    "1. number of epochs \n",
    "2. learning rate\n",
    "3. momentum constant"
   ]
  },
  {
   "cell_type": "code",
   "execution_count": 19,
   "metadata": {
    "scrolled": true
   },
   "outputs": [
    {
     "name": "stdout",
     "output_type": "stream",
     "text": [
      "last epoch finished: 299 -- progress: 100.0% -- time: 0.09379852717459179 mins5339843 mins\n",
      "Training completed. Total training time: 2.56 mins\n"
     ]
    }
   ],
   "source": [
    "results = model.train_CNN(train_dataset, validation_dataset, lr = 0.01, epochs_num = 300, alpha = 0, momentum = 0.9)\n",
    "\n",
    "epochs, train_losses, validation_losses, f1_scores_validations, precisions_validations, recalls_validations = results"
   ]
  },
  {
   "cell_type": "code",
   "execution_count": 20,
   "metadata": {},
   "outputs": [
    {
     "data": {
      "image/png": "[encoded data removed]",
      "text/plain": [
       "<Figure size 432x288 with 1 Axes>"
      ]
     },
     "metadata": {
      "needs_background": "light"
     },
     "output_type": "display_data"
    },
    {
     "data": {
      "image/png": "[encoded data removed]",
      "text/plain": [
       "<Figure size 432x288 with 1 Axes>"
      ]
     },
     "metadata": {
      "needs_background": "light"
     },
     "output_type": "display_data"
    }
   ],
   "source": [
    "plt.plot(epochs, train_losses, label = \"train\")\n",
    "plt.plot(epochs, validation_losses, label = \"validation\")\n",
    "plt.legend()\n",
    "plt.title(\"loss vs epoch\")\n",
    "plt.savefig(f'trained_models_pics_{model.cnn_name}_loss.png', format = 'png')\n",
    "plt.show()\n",
    "\n",
    "\n",
    "plt.plot(epochs, f1_scores_validations, label = \"validation\")\n",
    "plt.legend()\n",
    "plt.title(\"f1 vs epoch\")\n",
    "#plt.savefig(join(\"trained_models_pics\", model.cnn_name + '_loss.png'), format = 'png')\n",
    "plt.show()\n",
    "\n",
    "dict_path = join(\"trained_models\", model.cnn_name + \"_state.pt\")\n",
    "torch.save(model.state_dict(), dict_path)\n",
    "model.save_cnn_params()"
   ]
  },
  {
   "cell_type": "markdown",
   "metadata": {},
   "source": [
    "We save all the parameters used in the CNN (weights of all the layers and the configurations of the CNN)"
   ]
  },
  {
   "cell_type": "markdown",
   "metadata": {},
   "source": [
    "## 4. Evaluation of the CNN results"
   ]
  },
  {
   "cell_type": "markdown",
   "metadata": {},
   "source": [
    "We extract the labels true labels from the training and testing data sets and predict the labels using both labels. The predictions are usually refered as y_hat. "
   ]
  },
  {
   "cell_type": "code",
   "execution_count": 21,
   "metadata": {},
   "outputs": [
    {
     "name": "stdout",
     "output_type": "stream",
     "text": [
      "tensor([[[0, 0, 0,  ..., 0, 0, 0]],\n",
      "\n",
      "        [[0, 0, 0,  ..., 0, 0, 0]],\n",
      "\n",
      "        [[0, 0, 0,  ..., 0, 0, 0]],\n",
      "\n",
      "        ...,\n",
      "\n",
      "        [[0, 0, 0,  ..., 0, 0, 0]],\n",
      "\n",
      "        [[0, 0, 0,  ..., 0, 0, 0]],\n",
      "\n",
      "        [[0, 0, 0,  ..., 0, 0, 0]]])\n",
      "tensor([[[0, 0, 0,  ..., 0, 0, 0]],\n",
      "\n",
      "        [[0, 0, 0,  ..., 0, 0, 0]],\n",
      "\n",
      "        [[0, 0, 0,  ..., 0, 0, 0]],\n",
      "\n",
      "        ...,\n",
      "\n",
      "        [[0, 0, 0,  ..., 0, 0, 0]],\n",
      "\n",
      "        [[0, 0, 0,  ..., 0, 0, 0]],\n",
      "\n",
      "        [[0, 0, 0,  ..., 0, 0, 0]]])\n"
     ]
    }
   ],
   "source": [
    "model.eval()\n",
    "\n",
    "y_train = train_dataset.labels_tensor\n",
    "\n",
    "y_validation = validation_dataset.labels_tensor\n",
    "\n",
    "x_train = PPD.collate_data(train_dataset)[0]\n",
    "print(x_train)\n",
    "\n",
    "x_validation = PPD.collate_data(validation_dataset)[0]\n",
    "print(x_validation)\n",
    "y_hat_train = model(x_train)\n",
    "\n",
    "y_hat_validation = model(x_validation)"
   ]
  },
  {
   "cell_type": "markdown",
   "metadata": {},
   "source": [
    "We now show how the F1 score changes for all possible thresholds"
   ]
  },
  {
   "cell_type": "code",
   "execution_count": 22,
   "metadata": {},
   "outputs": [
    {
     "name": "stdout",
     "output_type": "stream",
     "text": [
      "2103.0 Labels T\n",
      "1575 Segments T\n",
      "523.0 Labels V\n",
      "393 Segments V\n"
     ]
    },
    {
     "data": {
      "image/png": "[encoded data removed]",
      "text/plain": [
       "<Figure size 1080x288 with 3 Axes>"
      ]
     },
     "metadata": {
      "needs_background": "light"
     },
     "output_type": "display_data"
    },
    {
     "name": "stdout",
     "output_type": "stream",
     "text": [
      "Scores with 0.5 threshold\n",
      "---------------------------------------------------------------------------------------------------------\n",
      "f1 micro        |0.8216433525085449\n",
      "precision micro |0.8631578683853149\n",
      "recall micro    |0.7839388251304626\n",
      "---------------------------------------------------------------------------------------------------------\n",
      "f1 macro        |0.6947675943374634\n",
      "precision macro |0.8026726841926575\n",
      "recall macro    |0.6365222930908203\n",
      "---------------------------------------------------------------------------------------------------------\n",
      "\n",
      "Score per label with 0.5 threshold\n",
      "---------------------------------------------------------------------------------------------------------\n",
      "Label                                           F1        Precision Recall    Count T.  Count V.  \n",
      "---------------------------------------------------------------------------------------------------------\n",
      "Collect on first party website/app              0.74      0.74      0.75      0.21      0.19      \n",
      "Receive/Shared with                             0.93      0.92      0.94      0.76      0.75      \n",
      "See                                             0.61      0.75      0.52      0.09      0.12      \n",
      "Track on first party website/app                0.75      0.84      0.68      0.18      0.18      \n",
      "Unspecified                                     0.46      0.78      0.33      0.12      0.11      \n"
     ]
    },
    {
     "data": {
      "text/plain": [
       "<Figure size 432x288 with 0 Axes>"
      ]
     },
     "metadata": {},
     "output_type": "display_data"
    }
   ],
   "source": [
    "model.print_results(train_dataset, validation_dataset, 0.5)"
   ]
  },
  {
   "cell_type": "markdown",
   "metadata": {},
   "source": [
    "With the following block of code we will find the threshold that with which we obtain the best overall F1 score. "
   ]
  },
  {
   "cell_type": "code",
   "execution_count": 23,
   "metadata": {
    "scrolled": true
   },
   "outputs": [],
   "source": [
    "best_f1_score, best_threshold_label = CNN.get_best_thresholds(y_validation, y_hat_validation, labels, current_num_levels)"
   ]
  },
  {
   "cell_type": "code",
   "execution_count": 24,
   "metadata": {},
   "outputs": [
    {
     "name": "stdout",
     "output_type": "stream",
     "text": [
      "Label                                           F1        Precision Recall    \n",
      "---------------------------------------------------------------------------------------------------------\n",
      "Collect on first party website/app              0.75      0.8       0.71      \n",
      "Receive/Shared with                             0.93      0.93      0.93      \n",
      "See                                             0.69      0.75      0.64      \n",
      "Track on first party website/app                0.75      0.84      0.68      \n",
      "Unspecified                                     0.48      0.75      0.35      \n",
      "macro averages\n",
      "F1: 0.7171861529350281\n",
      "Precision: 0.8122831583023071\n",
      "Recall: 0.6579123735427856\n"
     ]
    }
   ],
   "source": [
    "model.print_results_best_t(validation_dataset, torch.tensor(best_threshold_label).float())"
   ]
  },
  {
   "cell_type": "code",
   "execution_count": 25,
   "metadata": {},
   "outputs": [
    {
     "data": {
      "text/plain": [
       "(0.7171861529350281, 0.8122831583023071, 0.6579123735427856)"
      ]
     },
     "execution_count": 25,
     "metadata": {},
     "output_type": "execute_result"
    }
   ],
   "source": [
    "model.f1_score(y_validation, y_hat_validation, torch.tensor(best_threshold_label).float(), macro=True)"
   ]
  },
  {
   "cell_type": "code",
   "execution_count": 26,
   "metadata": {},
   "outputs": [
    {
     "data": {
      "text/plain": [
       "(0.8309858441352844, 0.8768577575683594, 0.7896749377250671)"
      ]
     },
     "execution_count": 26,
     "metadata": {},
     "output_type": "execute_result"
    }
   ],
   "source": [
    "model.f1_score(y_validation, y_hat_validation, torch.tensor(best_threshold_label).float(), macro=False)"
   ]
  },
  {
   "cell_type": "code",
   "execution_count": 567,
   "metadata": {},
   "outputs": [],
   "source": [
    "metrics_05 = confusion_matrices(model, validation_dataset, 0.5)"
   ]
  },
  {
   "cell_type": "code",
   "execution_count": 568,
   "metadata": {},
   "outputs": [],
   "source": [
    "metrics_best_t = confusion_matrices(model, validation_dataset, torch.tensor(best_threshold_label).float())"
   ]
  },
  {
   "cell_type": "code",
   "execution_count": 32,
   "metadata": {},
   "outputs": [
    {
     "data": {
      "image/png": "[encoded data removed]",
      "text/plain": [
       "<Figure size 1080x720 with 4 Axes>"
      ]
     },
     "metadata": {
      "needs_background": "light"
     },
     "output_type": "display_data"
    }
   ],
   "source": [
    "confusion_matrices_change(metrics_05, metrics_best_t)"
   ]
  },
  {
   "cell_type": "markdown",
   "metadata": {},
   "source": [
    "Now we show the results for the best combination of thresholds"
   ]
  },
  {
   "cell_type": "code",
   "execution_count": 33,
   "metadata": {},
   "outputs": [
    {
     "name": "stdout",
     "output_type": "stream",
     "text": [
      "f1        |tensor([0.7692, 0.7692, 0.8319, 0.5833, 0.6769])\n",
      "precision |tensor([0.7500, 0.7692, 0.8103, 0.7778, 0.6471])\n",
      "recall    |tensor([0.7895, 0.7692, 0.8545, 0.4667, 0.7097])\n"
     ]
    }
   ],
   "source": [
    "# We show the F1, precision and recall for the best threshold\n",
    "#f1, precision, recall = CNN.f1_score(y_validation, y_hat_validation, torch.tensor(best_t_label).float())\n",
    "f1, precision, recall = CNN.f1_score_per_label(y_validation, y_hat_validation, 0.5)\n",
    "\n",
    "print(\"f1        |\" + str(f1))\n",
    "\n",
    "print(\"precision |\" + str(precision))\n",
    "\n",
    "print(\"recall    |\" + str(recall))"
   ]
  },
  {
   "cell_type": "markdown",
   "metadata": {},
   "source": [
    "We show a list of all the possible labels to remind the user which ones are available."
   ]
  },
  {
   "cell_type": "code",
   "execution_count": 34,
   "metadata": {},
   "outputs": [
    {
     "name": "stdout",
     "output_type": "stream",
     "text": [
      "index 0. Profile data.\n",
      "index 1. Transactional data.\n",
      "index 2. User account data.\n",
      "index 3. Other data about user.\n",
      "index 4. Unspecified.\n"
     ]
    }
   ],
   "source": [
    "for label, i in labels.items():\n",
    "    \n",
    "    print(\"index {}. {}.\".format(i, label))"
   ]
  },
  {
   "cell_type": "markdown",
   "metadata": {},
   "source": [
    "We can also show how the F1 score changes for all possible thresholds in just one label"
   ]
  },
  {
   "cell_type": "code",
   "execution_count": 35,
   "metadata": {},
   "outputs": [
    {
     "ename": "KeyError",
     "evalue": "'Children'",
     "output_type": "error",
     "traceback": [
      "\u001b[0;31m---------------------------------------------------------------------------\u001b[0m",
      "\u001b[0;31mKeyError\u001b[0m                                  Traceback (most recent call last)",
      "\u001b[0;32m<ipython-input-35-6b8f5fbe4cc9>\u001b[0m in \u001b[0;36m<module>\u001b[0;34m\u001b[0m\n\u001b[1;32m      3\u001b[0m \u001b[0mlabel\u001b[0m \u001b[0;34m=\u001b[0m \u001b[0;34m'Children'\u001b[0m\u001b[0;34m\u001b[0m\u001b[0;34m\u001b[0m\u001b[0m\n\u001b[1;32m      4\u001b[0m \u001b[0;34m\u001b[0m\u001b[0m\n\u001b[0;32m----> 5\u001b[0;31m \u001b[0mf1_scores_per_label\u001b[0m \u001b[0;34m=\u001b[0m \u001b[0;34m[\u001b[0m\u001b[0mCNN\u001b[0m\u001b[0;34m.\u001b[0m\u001b[0mf1_score_per_label\u001b[0m\u001b[0;34m(\u001b[0m\u001b[0my_validation\u001b[0m\u001b[0;34m,\u001b[0m \u001b[0my_hat_validation\u001b[0m\u001b[0;34m,\u001b[0m \u001b[0mt\u001b[0m\u001b[0;34m)\u001b[0m\u001b[0;34m[\u001b[0m\u001b[0;36m0\u001b[0m\u001b[0;34m]\u001b[0m\u001b[0;34m[\u001b[0m\u001b[0mlabels\u001b[0m\u001b[0;34m[\u001b[0m\u001b[0mlabel\u001b[0m\u001b[0;34m]\u001b[0m\u001b[0;34m]\u001b[0m\u001b[0;34m.\u001b[0m\u001b[0mitem\u001b[0m\u001b[0;34m(\u001b[0m\u001b[0;34m)\u001b[0m \u001b[0;32mfor\u001b[0m \u001b[0mt\u001b[0m \u001b[0;32min\u001b[0m \u001b[0mthreshold_list\u001b[0m\u001b[0;34m]\u001b[0m\u001b[0;34m\u001b[0m\u001b[0;34m\u001b[0m\u001b[0m\n\u001b[0m\u001b[1;32m      6\u001b[0m \u001b[0;34m\u001b[0m\u001b[0m\n\u001b[1;32m      7\u001b[0m \u001b[0mplt\u001b[0m\u001b[0;34m.\u001b[0m\u001b[0mplot\u001b[0m\u001b[0;34m(\u001b[0m\u001b[0mthreshold_list\u001b[0m\u001b[0;34m,\u001b[0m \u001b[0mf1_scores_per_label\u001b[0m\u001b[0;34m)\u001b[0m\u001b[0;34m\u001b[0m\u001b[0;34m\u001b[0m\u001b[0m\n",
      "\u001b[0;32m<ipython-input-35-6b8f5fbe4cc9>\u001b[0m in \u001b[0;36m<listcomp>\u001b[0;34m(.0)\u001b[0m\n\u001b[1;32m      3\u001b[0m \u001b[0mlabel\u001b[0m \u001b[0;34m=\u001b[0m \u001b[0;34m'Children'\u001b[0m\u001b[0;34m\u001b[0m\u001b[0;34m\u001b[0m\u001b[0m\n\u001b[1;32m      4\u001b[0m \u001b[0;34m\u001b[0m\u001b[0m\n\u001b[0;32m----> 5\u001b[0;31m \u001b[0mf1_scores_per_label\u001b[0m \u001b[0;34m=\u001b[0m \u001b[0;34m[\u001b[0m\u001b[0mCNN\u001b[0m\u001b[0;34m.\u001b[0m\u001b[0mf1_score_per_label\u001b[0m\u001b[0;34m(\u001b[0m\u001b[0my_validation\u001b[0m\u001b[0;34m,\u001b[0m \u001b[0my_hat_validation\u001b[0m\u001b[0;34m,\u001b[0m \u001b[0mt\u001b[0m\u001b[0;34m)\u001b[0m\u001b[0;34m[\u001b[0m\u001b[0;36m0\u001b[0m\u001b[0;34m]\u001b[0m\u001b[0;34m[\u001b[0m\u001b[0mlabels\u001b[0m\u001b[0;34m[\u001b[0m\u001b[0mlabel\u001b[0m\u001b[0;34m]\u001b[0m\u001b[0;34m]\u001b[0m\u001b[0;34m.\u001b[0m\u001b[0mitem\u001b[0m\u001b[0;34m(\u001b[0m\u001b[0;34m)\u001b[0m \u001b[0;32mfor\u001b[0m \u001b[0mt\u001b[0m \u001b[0;32min\u001b[0m \u001b[0mthreshold_list\u001b[0m\u001b[0;34m]\u001b[0m\u001b[0;34m\u001b[0m\u001b[0;34m\u001b[0m\u001b[0m\n\u001b[0m\u001b[1;32m      6\u001b[0m \u001b[0;34m\u001b[0m\u001b[0m\n\u001b[1;32m      7\u001b[0m \u001b[0mplt\u001b[0m\u001b[0;34m.\u001b[0m\u001b[0mplot\u001b[0m\u001b[0;34m(\u001b[0m\u001b[0mthreshold_list\u001b[0m\u001b[0;34m,\u001b[0m \u001b[0mf1_scores_per_label\u001b[0m\u001b[0;34m)\u001b[0m\u001b[0;34m\u001b[0m\u001b[0;34m\u001b[0m\u001b[0m\n",
      "\u001b[0;31mKeyError\u001b[0m: 'Children'"
     ]
    }
   ],
   "source": [
    "threshold_list = np.arange(0.0, 1, 0.01)\n",
    "\n",
    "label = 'Children'\n",
    "\n",
    "f1_scores_per_label = [CNN.f1_score_per_label(y_validation, y_hat_validation, t)[0][labels[label]].item() for t in threshold_list]\n",
    "\n",
    "plt.plot(threshold_list, f1_scores_per_label)\n",
    "\n",
    "plt.title(label + \" f1 score\" + \" vs threshold\")\n",
    "\n",
    "plt.show()\n",
    "\n",
    "f1_label, precision_label, recall_label = CNN.f1_score_per_label(y_validation, y_hat_validation, 0.5)\n",
    "\n",
    "f1_label = f1_label[labels[label]].item()\n",
    "\n",
    "precision_label = precision_label[labels[label]].item()\n",
    "\n",
    "recall_label = recall_label[labels[label]].item()\n",
    "\n",
    "print(\"Label: \" + label + \"\\n\")\n",
    "\n",
    "print(\"f1_label        |\" + str(f1_label))\n",
    "\n",
    "print(\"precision_label |\" + str(precision_label))\n",
    "\n",
    "print(\"recall_label    |\" + str(recall_label))"
   ]
  },
  {
   "cell_type": "markdown",
   "metadata": {},
   "source": [
    "## 5. Comparison between models"
   ]
  },
  {
   "cell_type": "code",
   "execution_count": 38,
   "metadata": {},
   "outputs": [],
   "source": [
    "folder = 'trained_models/Thresholds'\n",
    "\n",
    "files = [join(folder, f) for f in listdir(folder) if isfile(join(folder, f)) and '.pt' in f]"
   ]
  },
  {
   "cell_type": "code",
   "execution_count": 39,
   "metadata": {},
   "outputs": [
    {
     "data": {
      "text/plain": [
       "[]"
      ]
     },
     "execution_count": 39,
     "metadata": {},
     "output_type": "execute_result"
    }
   ],
   "source": [
    "files"
   ]
  },
  {
   "cell_type": "code",
   "execution_count": 41,
   "metadata": {},
   "outputs": [
    {
     "ename": "FileNotFoundError",
     "evalue": "[Errno 2] No such file or directory: 'trained_models/cnn_100_200_[100]_12_[3]_e80_60-20-20_polisis_params.pkl'",
     "output_type": "error",
     "traceback": [
      "\u001b[0;31m---------------------------------------------------------------------------\u001b[0m",
      "\u001b[0;31mFileNotFoundError\u001b[0m                         Traceback (most recent call last)",
      "\u001b[0;32m<ipython-input-41-14f91ab39bf1>\u001b[0m in \u001b[0;36m<module>\u001b[0;34m\u001b[0m\n\u001b[0;32m----> 1\u001b[0;31m \u001b[0mparams_model1_file\u001b[0m \u001b[0;34m=\u001b[0m \u001b[0mopen\u001b[0m\u001b[0;34m(\u001b[0m\u001b[0;34m'trained_models/cnn_100_200_[100]_12_[3]_e80_60-20-20_polisis_params.pkl'\u001b[0m\u001b[0;34m,\u001b[0m \u001b[0;34m'rb'\u001b[0m\u001b[0;34m)\u001b[0m\u001b[0;34m\u001b[0m\u001b[0;34m\u001b[0m\u001b[0m\n\u001b[0m\u001b[1;32m      2\u001b[0m \u001b[0;34m\u001b[0m\u001b[0m\n\u001b[1;32m      3\u001b[0m \u001b[0mparams_model1\u001b[0m \u001b[0;34m=\u001b[0m \u001b[0mpickle\u001b[0m\u001b[0;34m.\u001b[0m\u001b[0mload\u001b[0m\u001b[0;34m(\u001b[0m\u001b[0mparams_model1_file\u001b[0m\u001b[0;34m)\u001b[0m\u001b[0;34m\u001b[0m\u001b[0;34m\u001b[0m\u001b[0m\n",
      "\u001b[0;31mFileNotFoundError\u001b[0m: [Errno 2] No such file or directory: 'trained_models/cnn_100_200_[100]_12_[3]_e80_60-20-20_polisis_params.pkl'"
     ]
    }
   ],
   "source": [
    "params_model1_file = open('trained_models/cnn_100_200_[100]_12_[3]_e80_60-20-20_polisis_params.pkl', 'rb')\n",
    "\n",
    "params_model1 = pickle.load(params_model1_file)"
   ]
  },
  {
   "cell_type": "code",
   "execution_count": 35,
   "metadata": {},
   "outputs": [
    {
     "ename": "NameError",
     "evalue": "name 'params_model1' is not defined",
     "output_type": "error",
     "traceback": [
      "\u001b[0;31m---------------------------------------------------------------------------\u001b[0m",
      "\u001b[0;31mNameError\u001b[0m                                 Traceback (most recent call last)",
      "\u001b[0;32m<ipython-input-35-6c7e10053adc>\u001b[0m in \u001b[0;36m<module>\u001b[0;34m()\u001b[0m\n\u001b[0;32m----> 1\u001b[0;31m \u001b[0mmodel1\u001b[0m \u001b[0;34m=\u001b[0m \u001b[0mCNN\u001b[0m\u001b[0;34m(\u001b[0m\u001b[0;34m**\u001b[0m\u001b[0mparams_model1\u001b[0m\u001b[0;34m)\u001b[0m\u001b[0;34m\u001b[0m\u001b[0m\n\u001b[0m\u001b[1;32m      2\u001b[0m \u001b[0;34m\u001b[0m\u001b[0m\n\u001b[1;32m      3\u001b[0m \u001b[0mmodel1\u001b[0m\u001b[0;34m.\u001b[0m\u001b[0mload_state_dict\u001b[0m\u001b[0;34m(\u001b[0m\u001b[0mtorch\u001b[0m\u001b[0;34m.\u001b[0m\u001b[0mload\u001b[0m\u001b[0;34m(\u001b[0m\u001b[0;34m'trained_models/Thresholds/cnn_300_200_[100]_12_[3]_e80_60-20-20_polisis_state.pt'\u001b[0m\u001b[0;34m)\u001b[0m\u001b[0;34m)\u001b[0m\u001b[0;34m\u001b[0m\u001b[0m\n\u001b[1;32m      4\u001b[0m \u001b[0;34m\u001b[0m\u001b[0m\n\u001b[1;32m      5\u001b[0m \u001b[0mmodel1\u001b[0m\u001b[0;34m.\u001b[0m\u001b[0mprint_results\u001b[0m\u001b[0;34m(\u001b[0m\u001b[0mtrain_dataset\u001b[0m\u001b[0;34m,\u001b[0m \u001b[0mvalidation_dataset\u001b[0m\u001b[0;34m,\u001b[0m \u001b[0;36m0.5\u001b[0m\u001b[0;34m)\u001b[0m\u001b[0;34m\u001b[0m\u001b[0m\n",
      "\u001b[0;31mNameError\u001b[0m: name 'params_model1' is not defined"
     ]
    }
   ],
   "source": [
    "model1 = CNN(**params_model1)\n",
    "\n",
    "model1.load_state_dict(torch.load('trained_models/Thresholds/cnn_300_200_[100]_12_[3]_e80_60-20-20_polisis_state.pt'))\n",
    "\n",
    "model1.print_results(train_dataset, validation_dataset, 0.5)\n",
    "\n",
    "y_validation = validation_dataset.labels_tensor\n",
    "\n",
    "x_validation = PPD.collate_data(validation_dataset)[0]\n",
    "\n",
    "y_hat_validation1 = model1(x_validation)"
   ]
  },
  {
   "cell_type": "code",
   "execution_count": 36,
   "metadata": {},
   "outputs": [
    {
     "ename": "NameError",
     "evalue": "name 'y_hat_validation1' is not defined",
     "output_type": "error",
     "traceback": [
      "\u001b[0;31m---------------------------------------------------------------------------\u001b[0m",
      "\u001b[0;31mNameError\u001b[0m                                 Traceback (most recent call last)",
      "\u001b[0;32m<ipython-input-36-660edfc00f80>\u001b[0m in \u001b[0;36m<module>\u001b[0;34m()\u001b[0m\n\u001b[0;32m----> 1\u001b[0;31m \u001b[0mbest_f1_score1\u001b[0m\u001b[0;34m,\u001b[0m \u001b[0mbest_t_label1\u001b[0m \u001b[0;34m=\u001b[0m \u001b[0mCNN\u001b[0m\u001b[0;34m.\u001b[0m\u001b[0mget_best_thresholds\u001b[0m\u001b[0;34m(\u001b[0m\u001b[0my_validation\u001b[0m\u001b[0;34m,\u001b[0m \u001b[0my_hat_validation1\u001b[0m\u001b[0;34m,\u001b[0m \u001b[0mlabels\u001b[0m\u001b[0;34m)\u001b[0m\u001b[0;34m\u001b[0m\u001b[0m\n\u001b[0m\u001b[1;32m      2\u001b[0m \u001b[0;34m\u001b[0m\u001b[0m\n\u001b[1;32m      3\u001b[0m \u001b[0mmodel1\u001b[0m\u001b[0;34m.\u001b[0m\u001b[0mprint_results_best_t\u001b[0m\u001b[0;34m(\u001b[0m\u001b[0mvalidation_dataset\u001b[0m\u001b[0;34m,\u001b[0m \u001b[0mtorch\u001b[0m\u001b[0;34m.\u001b[0m\u001b[0mtensor\u001b[0m\u001b[0;34m(\u001b[0m\u001b[0mbest_t_label1\u001b[0m\u001b[0;34m)\u001b[0m\u001b[0;34m.\u001b[0m\u001b[0mfloat\u001b[0m\u001b[0;34m(\u001b[0m\u001b[0;34m)\u001b[0m\u001b[0;34m)\u001b[0m\u001b[0;34m\u001b[0m\u001b[0m\n\u001b[1;32m      4\u001b[0m \u001b[0;34m\u001b[0m\u001b[0m\n\u001b[1;32m      5\u001b[0m \u001b[0mprint\u001b[0m\u001b[0;34m(\u001b[0m\u001b[0;34m'----macro averages----'\u001b[0m\u001b[0;34m)\u001b[0m\u001b[0;34m\u001b[0m\u001b[0m\n",
      "\u001b[0;31mNameError\u001b[0m: name 'y_hat_validation1' is not defined"
     ]
    }
   ],
   "source": [
    "best_f1_score1, best_t_label1 = CNN.get_best_thresholds(y_validation, y_hat_validation1, labels)\n",
    "\n",
    "model1.print_results_best_t(validation_dataset, torch.tensor(best_t_label1).float())\n",
    "\n",
    "print('----macro averages----')\n",
    "\n",
    "model1.f1_score(y_validation, y_hat_validation1, torch.tensor(best_t_label1).float(), macro=True)"
   ]
  },
  {
   "cell_type": "code",
   "execution_count": 37,
   "metadata": {},
   "outputs": [
    {
     "ename": "NameError",
     "evalue": "name 'model1' is not defined",
     "output_type": "error",
     "traceback": [
      "\u001b[0;31m---------------------------------------------------------------------------\u001b[0m",
      "\u001b[0;31mNameError\u001b[0m                                 Traceback (most recent call last)",
      "\u001b[0;32m<ipython-input-37-2fda407eacd4>\u001b[0m in \u001b[0;36m<module>\u001b[0;34m()\u001b[0m\n\u001b[0;32m----> 1\u001b[0;31m \u001b[0mmetrics\u001b[0m \u001b[0;34m=\u001b[0m \u001b[0mconfusion_matrices\u001b[0m\u001b[0;34m(\u001b[0m\u001b[0mmodel1\u001b[0m\u001b[0;34m,\u001b[0m \u001b[0mvalidation_dataset\u001b[0m\u001b[0;34m,\u001b[0m \u001b[0mtorch\u001b[0m\u001b[0;34m.\u001b[0m\u001b[0mtensor\u001b[0m\u001b[0;34m(\u001b[0m\u001b[0mbest_t_label1\u001b[0m\u001b[0;34m)\u001b[0m\u001b[0;34m.\u001b[0m\u001b[0mfloat\u001b[0m\u001b[0;34m(\u001b[0m\u001b[0;34m)\u001b[0m\u001b[0;34m)\u001b[0m\u001b[0;34m\u001b[0m\u001b[0m\n\u001b[0m\u001b[1;32m      2\u001b[0m \u001b[0;34m\u001b[0m\u001b[0m\n\u001b[1;32m      3\u001b[0m \u001b[0mtp\u001b[0m \u001b[0;34m=\u001b[0m \u001b[0msum\u001b[0m\u001b[0;34m(\u001b[0m\u001b[0mmetrics\u001b[0m\u001b[0;34m[\u001b[0m\u001b[0;34m'TP'\u001b[0m\u001b[0;34m]\u001b[0m\u001b[0;34m)\u001b[0m\u001b[0;34m\u001b[0m\u001b[0m\n\u001b[1;32m      4\u001b[0m \u001b[0mfp\u001b[0m \u001b[0;34m=\u001b[0m \u001b[0msum\u001b[0m\u001b[0;34m(\u001b[0m\u001b[0mmetrics\u001b[0m\u001b[0;34m[\u001b[0m\u001b[0;34m'FP'\u001b[0m\u001b[0;34m]\u001b[0m\u001b[0;34m)\u001b[0m\u001b[0;34m\u001b[0m\u001b[0m\n\u001b[1;32m      5\u001b[0m \u001b[0mtn\u001b[0m \u001b[0;34m=\u001b[0m \u001b[0msum\u001b[0m\u001b[0;34m(\u001b[0m\u001b[0mmetrics\u001b[0m\u001b[0;34m[\u001b[0m\u001b[0;34m'TN'\u001b[0m\u001b[0;34m]\u001b[0m\u001b[0;34m)\u001b[0m\u001b[0;34m\u001b[0m\u001b[0m\n",
      "\u001b[0;31mNameError\u001b[0m: name 'model1' is not defined"
     ]
    }
   ],
   "source": [
    "metrics = confusion_matrices(model1, validation_dataset, torch.tensor(best_t_label1).float())\n",
    "\n",
    "tp = sum(metrics['TP'])\n",
    "fp = sum(metrics['FP'])\n",
    "tn = sum(metrics['TN'])\n",
    "fn = sum(metrics['FN'])\n",
    "\n",
    "print('------------------best_t--------------------')\n",
    "\n",
    "print('f1: {}'.format(2 * tp / (2 * tp + fn + fp)))\n",
    "print('precision: {}'.format(tp / (tp + fp)))\n",
    "print('recall: {}'.format(tp / (tp + fn)))\n",
    "\n",
    "metrics = confusion_matrices(model1, validation_dataset, torch.tensor(0.5).float())\n",
    "\n",
    "tp = sum(metrics['TP'])\n",
    "fp = sum(metrics['FP'])\n",
    "tn = sum(metrics['TN'])\n",
    "fn = sum(metrics['FN'])\n",
    "\n",
    "print('-------------------t-0.5--------------------')\n",
    "\n",
    "print('f1: {}'.format(2 * tp / (2 * tp + fn + fp)))\n",
    "print('precision: {}'.format(tp / (tp + fp)))\n",
    "print('recall: {}'.format(tp / (tp + fn)))"
   ]
  },
  {
   "cell_type": "code",
   "execution_count": null,
   "metadata": {},
   "outputs": [],
   "source": [
    "params_model2_file = open('trained_models/Thresholds/cnn_300_200_[100]_12_[3]_lr.005_e300_60-20-20_polisis_params.pkl', 'rb')\n",
    "\n",
    "params_model2 = pickle.load(params_model2_file)"
   ]
  },
  {
   "cell_type": "code",
   "execution_count": null,
   "metadata": {},
   "outputs": [],
   "source": [
    "model2 = CNN(**params_model2)\n",
    "\n",
    "model2.load_state_dict(torch.load('trained_models/Thresholds/cnn_300_200_[100]_12_[3]_lr.005_e300_60-20-20_polisis_state.pt'))\n",
    "\n",
    "model2.print_results(train_dataset, validation_dataset, 0.5)\n",
    "\n",
    "y_validation = validation_dataset.labels_tensor\n",
    "\n",
    "x_validation = PPD.collate_data(validation_dataset)[0]\n",
    "\n",
    "y_hat_validation2 = model2(x_validation)"
   ]
  },
  {
   "cell_type": "code",
   "execution_count": null,
   "metadata": {},
   "outputs": [],
   "source": [
    "best_f1_score, best_t_label2 = CNN.get_best_thresholds(y_validation, y_hat_validation2, labels)\n",
    "\n",
    "model2.print_results_best_t(validation_dataset, torch.tensor(best_t_label2).float())\n",
    "\n",
    "print('----macro averages----')\n",
    "\n",
    "model2.f1_score(y_validation, y_hat_validation2, torch.tensor(best_t_label2).float(), macro=True)"
   ]
  },
  {
   "cell_type": "code",
   "execution_count": null,
   "metadata": {},
   "outputs": [],
   "source": [
    "metrics = confusion_matrices(model2, validation_dataset, torch.tensor(best_t_label2).float())\n",
    "\n",
    "tp = sum(metrics['TP'])\n",
    "fp = sum(metrics['FP'])\n",
    "tn = sum(metrics['TN'])\n",
    "fn = sum(metrics['FN'])\n",
    "\n",
    "print('------------------best_t--------------------')\n",
    "\n",
    "print('f1: {}'.format(2 * tp / (2 * tp + fn + fp)))\n",
    "print('precision: {}'.format(tp / (tp + fp)))\n",
    "print('recall: {}'.format(tp / (tp + fn)))\n",
    "\n",
    "metrics = confusion_matrices(model2, validation_dataset, torch.tensor(0.5).float())\n",
    "\n",
    "tp = sum(metrics['TP'])\n",
    "fp = sum(metrics['FP'])\n",
    "tn = sum(metrics['TN'])\n",
    "fn = sum(metrics['FN'])\n",
    "\n",
    "print('-------------------t-0.5--------------------')\n",
    "\n",
    "print('f1: {}'.format(2 * tp / (2 * tp + fn + fp)))\n",
    "print('precision: {}'.format(tp / (tp + fp)))\n",
    "print('recall: {}'.format(tp / (tp + fn)))"
   ]
  },
  {
   "cell_type": "code",
   "execution_count": null,
   "metadata": {},
   "outputs": [],
   "source": [
    "model2.f1_score_per_label(y_validation, y_hat_validation2, torch.tensor(best_t_label2).float())"
   ]
  }
 ],
 "metadata": {
  "kernelspec": {
   "display_name": "Python 3",
   "language": "python",
   "name": "python3"
  },
  "language_info": {
   "codemirror_mode": {
    "name": "ipython",
    "version": 3
   },
   "file_extension": ".py",
   "mimetype": "text/x-python",
   "name": "python",
   "nbconvert_exporter": "python",
   "pygments_lexer": "ipython3",
   "version": "3.7.3"
  }
 },
 "nbformat": 4,
 "nbformat_minor": 4
}
